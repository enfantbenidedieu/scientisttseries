{
 "cells": [
  {
   "cell_type": "markdown",
   "metadata": {},
   "source": [
    "# Performance"
   ]
  },
  {
   "cell_type": "code",
   "execution_count": 1,
   "metadata": {},
   "outputs": [],
   "source": [
    "%matplotlib inline"
   ]
  },
  {
   "cell_type": "code",
   "execution_count": 2,
   "metadata": {},
   "outputs": [],
   "source": [
    "from scientisttseries.utils import *\n",
    "import numpy as np\n",
    "import statsmodels as smt\n",
    "import statsmodels.api as sm\n",
    "import statsmodels.formula.api as smf\n",
    "import matplotlib.pyplot as plt\n",
    "import pandas as pd\n",
    "from scipy import stats\n",
    "from statsmodels.tsa.arima.model import ARIMA\n",
    "from statsmodels.graphics.api import qqplot"
   ]
  },
  {
   "cell_type": "markdown",
   "metadata": {},
   "source": [
    "## Linear regression"
   ]
  },
  {
   "cell_type": "code",
   "execution_count": 3,
   "metadata": {},
   "outputs": [
    {
     "data": {
      "text/html": [
       "<table class=\"simpletable\">\n",
       "<tr>\n",
       "       <td></td>          <th>coef</th>     <th>std err</th>      <th>t</th>      <th>P>|t|</th>  <th>[0.025</th>    <th>0.975]</th>  \n",
       "</tr>\n",
       "<tr>\n",
       "  <th>Intercept</th>   <td>   38.6517</td> <td>    9.456</td> <td>    4.087</td> <td> 0.000</td> <td>   19.826</td> <td>   57.478</td>\n",
       "</tr>\n",
       "<tr>\n",
       "  <th>Region[T.E]</th> <td>  -15.4278</td> <td>    9.727</td> <td>   -1.586</td> <td> 0.117</td> <td>  -34.793</td> <td>    3.938</td>\n",
       "</tr>\n",
       "<tr>\n",
       "  <th>Region[T.N]</th> <td>  -10.0170</td> <td>    9.260</td> <td>   -1.082</td> <td> 0.283</td> <td>  -28.453</td> <td>    8.419</td>\n",
       "</tr>\n",
       "<tr>\n",
       "  <th>Region[T.S]</th> <td>   -4.5483</td> <td>    7.279</td> <td>   -0.625</td> <td> 0.534</td> <td>  -19.039</td> <td>    9.943</td>\n",
       "</tr>\n",
       "<tr>\n",
       "  <th>Region[T.W]</th> <td>  -10.0913</td> <td>    7.196</td> <td>   -1.402</td> <td> 0.165</td> <td>  -24.418</td> <td>    4.235</td>\n",
       "</tr>\n",
       "<tr>\n",
       "  <th>Literacy</th>    <td>   -0.1858</td> <td>    0.210</td> <td>   -0.886</td> <td> 0.378</td> <td>   -0.603</td> <td>    0.232</td>\n",
       "</tr>\n",
       "<tr>\n",
       "  <th>Wealth</th>      <td>    0.4515</td> <td>    0.103</td> <td>    4.390</td> <td> 0.000</td> <td>    0.247</td> <td>    0.656</td>\n",
       "</tr>\n",
       "</table>"
      ],
      "text/latex": [
       "\\begin{center}\n",
       "\\begin{tabular}{lcccccc}\n",
       "\\toprule\n",
       "                     & \\textbf{coef} & \\textbf{std err} & \\textbf{t} & \\textbf{P$> |$t$|$} & \\textbf{[0.025} & \\textbf{0.975]}  \\\\\n",
       "\\midrule\n",
       "\\textbf{Intercept}   &      38.6517  &        9.456     &     4.087  &         0.000        &       19.826    &       57.478     \\\\\n",
       "\\textbf{Region[T.E]} &     -15.4278  &        9.727     &    -1.586  &         0.117        &      -34.793    &        3.938     \\\\\n",
       "\\textbf{Region[T.N]} &     -10.0170  &        9.260     &    -1.082  &         0.283        &      -28.453    &        8.419     \\\\\n",
       "\\textbf{Region[T.S]} &      -4.5483  &        7.279     &    -0.625  &         0.534        &      -19.039    &        9.943     \\\\\n",
       "\\textbf{Region[T.W]} &     -10.0913  &        7.196     &    -1.402  &         0.165        &      -24.418    &        4.235     \\\\\n",
       "\\textbf{Literacy}    &      -0.1858  &        0.210     &    -0.886  &         0.378        &       -0.603    &        0.232     \\\\\n",
       "\\textbf{Wealth}      &       0.4515  &        0.103     &     4.390  &         0.000        &        0.247    &        0.656     \\\\\n",
       "\\bottomrule\n",
       "\\end{tabular}\n",
       "\\end{center}"
      ],
      "text/plain": [
       "<class 'statsmodels.iolib.table.SimpleTable'>"
      ]
     },
     "execution_count": 3,
     "metadata": {},
     "output_type": "execute_result"
    }
   ],
   "source": [
    "# Linear regression\n",
    "df = sm.datasets.get_rdataset(\"Guerry\", \"HistData\").data\n",
    "df = df[['Lottery', 'Literacy', 'Wealth', 'Region']].dropna()\n",
    "lm_model = smf.ols(formula='Lottery ~ Literacy + Wealth + Region', data=df).fit()\n",
    "# Coefficients\n",
    "coefficients(lm_model)"
   ]
  },
  {
   "cell_type": "code",
   "execution_count": 4,
   "metadata": {},
   "outputs": [
    {
     "data": {
      "text/html": [
       "<table class=\"simpletable\">\n",
       "<tr>\n",
       "       <td></td>          <th>coef</th>     <th>std err</th>      <th>t</th>      <th>P>|t|</th>  <th>[0.025</th>    <th>0.975]</th>  \n",
       "</tr>\n",
       "<tr>\n",
       "  <th>Intercept</th>   <td>   65.0216</td> <td>    8.104</td> <td>    8.023</td> <td> 0.000</td> <td>   48.891</td> <td>   81.152</td>\n",
       "</tr>\n",
       "<tr>\n",
       "  <th>Region[T.E]</th> <td>   -6.5053</td> <td>   10.555</td> <td>   -0.616</td> <td> 0.539</td> <td>  -27.515</td> <td>   14.505</td>\n",
       "</tr>\n",
       "<tr>\n",
       "  <th>Region[T.N]</th> <td>  -14.5009</td> <td>   10.213</td> <td>   -1.420</td> <td> 0.160</td> <td>  -34.829</td> <td>    5.827</td>\n",
       "</tr>\n",
       "<tr>\n",
       "  <th>Region[T.S]</th> <td>   -3.3293</td> <td>    8.071</td> <td>   -0.413</td> <td> 0.681</td> <td>  -19.394</td> <td>   12.736</td>\n",
       "</tr>\n",
       "<tr>\n",
       "  <th>Region[T.W]</th> <td>   -7.6858</td> <td>    7.962</td> <td>   -0.965</td> <td> 0.337</td> <td>  -23.533</td> <td>    8.162</td>\n",
       "</tr>\n",
       "<tr>\n",
       "  <th>Literacy</th>    <td>   -0.3981</td> <td>    0.227</td> <td>   -1.757</td> <td> 0.083</td> <td>   -0.849</td> <td>    0.053</td>\n",
       "</tr>\n",
       "</table>"
      ],
      "text/latex": [
       "\\begin{center}\n",
       "\\begin{tabular}{lcccccc}\n",
       "\\toprule\n",
       "                     & \\textbf{coef} & \\textbf{std err} & \\textbf{t} & \\textbf{P$> |$t$|$} & \\textbf{[0.025} & \\textbf{0.975]}  \\\\\n",
       "\\midrule\n",
       "\\textbf{Intercept}   &      65.0216  &        8.104     &     8.023  &         0.000        &       48.891    &       81.152     \\\\\n",
       "\\textbf{Region[T.E]} &      -6.5053  &       10.555     &    -0.616  &         0.539        &      -27.515    &       14.505     \\\\\n",
       "\\textbf{Region[T.N]} &     -14.5009  &       10.213     &    -1.420  &         0.160        &      -34.829    &        5.827     \\\\\n",
       "\\textbf{Region[T.S]} &      -3.3293  &        8.071     &    -0.413  &         0.681        &      -19.394    &       12.736     \\\\\n",
       "\\textbf{Region[T.W]} &      -7.6858  &        7.962     &    -0.965  &         0.337        &      -23.533    &        8.162     \\\\\n",
       "\\textbf{Literacy}    &      -0.3981  &        0.227     &    -1.757  &         0.083        &       -0.849    &        0.053     \\\\\n",
       "\\bottomrule\n",
       "\\end{tabular}\n",
       "\\end{center}"
      ],
      "text/plain": [
       "<class 'statsmodels.iolib.table.SimpleTable'>"
      ]
     },
     "execution_count": 4,
     "metadata": {},
     "output_type": "execute_result"
    }
   ],
   "source": [
    "lm_model2 = smf.ols(formula='Lottery ~ Literacy + Region', data=df).fit()\n",
    "coefficients(lm_model2)"
   ]
  },
  {
   "cell_type": "code",
   "execution_count": 5,
   "metadata": {},
   "outputs": [
    {
     "data": {
      "text/html": [
       "<div>\n",
       "<style scoped>\n",
       "    .dataframe tbody tr th:only-of-type {\n",
       "        vertical-align: middle;\n",
       "    }\n",
       "\n",
       "    .dataframe tbody tr th {\n",
       "        vertical-align: top;\n",
       "    }\n",
       "\n",
       "    .dataframe thead th {\n",
       "        text-align: right;\n",
       "    }\n",
       "</style>\n",
       "<table border=\"1\" class=\"dataframe\">\n",
       "  <thead>\n",
       "    <tr style=\"text-align: right;\">\n",
       "      <th></th>\n",
       "      <th>Name</th>\n",
       "      <th>AIC</th>\n",
       "      <th>AICC</th>\n",
       "      <th>BIC</th>\n",
       "      <th>Log-Likelihood</th>\n",
       "      <th>R-squared</th>\n",
       "      <th>Adj. rsquared</th>\n",
       "      <th>RMSE</th>\n",
       "      <th>sigma</th>\n",
       "    </tr>\n",
       "  </thead>\n",
       "  <tbody>\n",
       "    <tr>\n",
       "      <th>Model 1</th>\n",
       "      <td>ols</td>\n",
       "      <td>764.598558</td>\n",
       "      <td>766.053104</td>\n",
       "      <td>781.697117</td>\n",
       "      <td>-375.299279</td>\n",
       "      <td>0.337951</td>\n",
       "      <td>0.287024</td>\n",
       "      <td>400.492167</td>\n",
       "      <td>20.890997</td>\n",
       "    </tr>\n",
       "    <tr>\n",
       "      <th>Model 2</th>\n",
       "      <td>ols</td>\n",
       "      <td>781.365703</td>\n",
       "      <td>782.442626</td>\n",
       "      <td>796.021610</td>\n",
       "      <td>-384.682851</td>\n",
       "      <td>0.174384</td>\n",
       "      <td>0.122130</td>\n",
       "      <td>499.438336</td>\n",
       "      <td>23.181250</td>\n",
       "    </tr>\n",
       "  </tbody>\n",
       "</table>\n",
       "</div>"
      ],
      "text/plain": [
       "        Name         AIC        AICC         BIC  Log-Likelihood  R-squared  \\\n",
       "Model 1  ols  764.598558  766.053104  781.697117     -375.299279   0.337951   \n",
       "Model 2  ols  781.365703  782.442626  796.021610     -384.682851   0.174384   \n",
       "\n",
       "         Adj. rsquared        RMSE      sigma  \n",
       "Model 1       0.287024  400.492167  20.890997  \n",
       "Model 2       0.122130  499.438336  23.181250  "
      ]
     },
     "execution_count": 5,
     "metadata": {},
     "output_type": "execute_result"
    }
   ],
   "source": [
    "# Model performance\n",
    "compare_performance([lm_model, lm_model2])"
   ]
  },
  {
   "cell_type": "code",
   "execution_count": 6,
   "metadata": {},
   "outputs": [
    {
     "data": {
      "text/plain": [
       "0    -8.306220\n",
       "1     8.909644\n",
       "2     2.224029\n",
       "3    31.011729\n",
       "4    31.125249\n",
       "dtype: float64"
      ]
     },
     "execution_count": 6,
     "metadata": {},
     "output_type": "execute_result"
    }
   ],
   "source": [
    "# Residuals\n",
    "residuals(lm_model).head()"
   ]
  },
  {
   "cell_type": "markdown",
   "metadata": {},
   "source": [
    "## Logistic regression"
   ]
  },
  {
   "cell_type": "code",
   "execution_count": 7,
   "metadata": {},
   "outputs": [
    {
     "data": {
      "text/html": [
       "<table class=\"simpletable\">\n",
       "<tr>\n",
       "    <td></td>       <th>coef</th>     <th>std err</th>      <th>z</th>      <th>P>|z|</th>  <th>[0.025</th>    <th>0.975]</th>  \n",
       "</tr>\n",
       "<tr>\n",
       "  <th>const</th> <td>  -13.0213</td> <td>    4.931</td> <td>   -2.641</td> <td> 0.008</td> <td>  -22.687</td> <td>   -3.356</td>\n",
       "</tr>\n",
       "<tr>\n",
       "  <th>GPA</th>   <td>    2.8261</td> <td>    1.263</td> <td>    2.238</td> <td> 0.025</td> <td>    0.351</td> <td>    5.301</td>\n",
       "</tr>\n",
       "<tr>\n",
       "  <th>TUCE</th>  <td>    0.0952</td> <td>    0.142</td> <td>    0.672</td> <td> 0.501</td> <td>   -0.182</td> <td>    0.373</td>\n",
       "</tr>\n",
       "<tr>\n",
       "  <th>PSI</th>   <td>    2.3787</td> <td>    1.065</td> <td>    2.234</td> <td> 0.025</td> <td>    0.292</td> <td>    4.465</td>\n",
       "</tr>\n",
       "</table>"
      ],
      "text/latex": [
       "\\begin{center}\n",
       "\\begin{tabular}{lcccccc}\n",
       "\\toprule\n",
       "               & \\textbf{coef} & \\textbf{std err} & \\textbf{z} & \\textbf{P$> |$z$|$} & \\textbf{[0.025} & \\textbf{0.975]}  \\\\\n",
       "\\midrule\n",
       "\\textbf{const} &     -13.0213  &        4.931     &    -2.641  &         0.008        &      -22.687    &       -3.356     \\\\\n",
       "\\textbf{GPA}   &       2.8261  &        1.263     &     2.238  &         0.025        &        0.351    &        5.301     \\\\\n",
       "\\textbf{TUCE}  &       0.0952  &        0.142     &     0.672  &         0.501        &       -0.182    &        0.373     \\\\\n",
       "\\textbf{PSI}   &       2.3787  &        1.065     &     2.234  &         0.025        &        0.292    &        4.465     \\\\\n",
       "\\bottomrule\n",
       "\\end{tabular}\n",
       "\\end{center}"
      ],
      "text/plain": [
       "<class 'statsmodels.iolib.table.SimpleTable'>"
      ]
     },
     "execution_count": 7,
     "metadata": {},
     "output_type": "execute_result"
    }
   ],
   "source": [
    "# Logistic regression\n",
    "spector_data = sm.datasets.spector.load_pandas()\n",
    "spector_data.exog = sm.add_constant(spector_data.exog)\n",
    "glm_model = sm.Logit(spector_data.endog, spector_data.exog).fit(disp=False)\n",
    "# Coefficients\n",
    "coefficients(glm_model)"
   ]
  },
  {
   "cell_type": "code",
   "execution_count": 8,
   "metadata": {},
   "outputs": [
    {
     "data": {
      "text/html": [
       "<table class=\"simpletable\">\n",
       "<tr>\n",
       "    <td></td>       <th>coef</th>     <th>std err</th>      <th>z</th>      <th>P>|z|</th>  <th>[0.025</th>    <th>0.975]</th>  \n",
       "</tr>\n",
       "<tr>\n",
       "  <th>const</th> <td>  -11.6016</td> <td>    4.213</td> <td>   -2.754</td> <td> 0.006</td> <td>  -19.859</td> <td>   -3.344</td>\n",
       "</tr>\n",
       "<tr>\n",
       "  <th>GPA</th>   <td>    3.0634</td> <td>    1.223</td> <td>    2.505</td> <td> 0.012</td> <td>    0.667</td> <td>    5.460</td>\n",
       "</tr>\n",
       "<tr>\n",
       "  <th>PSI</th>   <td>    2.3378</td> <td>    1.041</td> <td>    2.246</td> <td> 0.025</td> <td>    0.298</td> <td>    4.378</td>\n",
       "</tr>\n",
       "</table>"
      ],
      "text/latex": [
       "\\begin{center}\n",
       "\\begin{tabular}{lcccccc}\n",
       "\\toprule\n",
       "               & \\textbf{coef} & \\textbf{std err} & \\textbf{z} & \\textbf{P$> |$z$|$} & \\textbf{[0.025} & \\textbf{0.975]}  \\\\\n",
       "\\midrule\n",
       "\\textbf{const} &     -11.6016  &        4.213     &    -2.754  &         0.006        &      -19.859    &       -3.344     \\\\\n",
       "\\textbf{GPA}   &       3.0634  &        1.223     &     2.505  &         0.012        &        0.667    &        5.460     \\\\\n",
       "\\textbf{PSI}   &       2.3378  &        1.041     &     2.246  &         0.025        &        0.298    &        4.378     \\\\\n",
       "\\bottomrule\n",
       "\\end{tabular}\n",
       "\\end{center}"
      ],
      "text/plain": [
       "<class 'statsmodels.iolib.table.SimpleTable'>"
      ]
     },
     "execution_count": 8,
     "metadata": {},
     "output_type": "execute_result"
    }
   ],
   "source": [
    "spector_data.exog = sm.add_constant(spector_data.exog)\n",
    "spector_data.exog = spector_data.exog.drop(\"TUCE\",axis=1)\n",
    "glm_model2 = sm.Logit(spector_data.endog, spector_data.exog).fit(disp=False)\n",
    "coefficients(glm_model2)"
   ]
  },
  {
   "cell_type": "code",
   "execution_count": 9,
   "metadata": {},
   "outputs": [
    {
     "data": {
      "text/html": [
       "<div>\n",
       "<style scoped>\n",
       "    .dataframe tbody tr th:only-of-type {\n",
       "        vertical-align: middle;\n",
       "    }\n",
       "\n",
       "    .dataframe tbody tr th {\n",
       "        vertical-align: top;\n",
       "    }\n",
       "\n",
       "    .dataframe thead th {\n",
       "        text-align: right;\n",
       "    }\n",
       "</style>\n",
       "<table border=\"1\" class=\"dataframe\">\n",
       "  <thead>\n",
       "    <tr style=\"text-align: right;\">\n",
       "      <th></th>\n",
       "      <th>Name</th>\n",
       "      <th>AIC</th>\n",
       "      <th>AICC</th>\n",
       "      <th>BIC</th>\n",
       "      <th>Log-Likelihood</th>\n",
       "      <th>Pseudo R-squared</th>\n",
       "      <th>log loss</th>\n",
       "    </tr>\n",
       "  </thead>\n",
       "  <tbody>\n",
       "    <tr>\n",
       "      <th>Model 1</th>\n",
       "      <td>logit</td>\n",
       "      <td>33.779268</td>\n",
       "      <td>35.26075</td>\n",
       "      <td>39.642212</td>\n",
       "      <td>-12.889634</td>\n",
       "      <td>0.374038</td>\n",
       "      <td>6.758185</td>\n",
       "    </tr>\n",
       "    <tr>\n",
       "      <th>Model 2</th>\n",
       "      <td>logit</td>\n",
       "      <td>32.253147</td>\n",
       "      <td>33.11029</td>\n",
       "      <td>36.650355</td>\n",
       "      <td>-13.126574</td>\n",
       "      <td>0.362532</td>\n",
       "      <td>6.758185</td>\n",
       "    </tr>\n",
       "  </tbody>\n",
       "</table>\n",
       "</div>"
      ],
      "text/plain": [
       "          Name        AIC      AICC        BIC  Log-Likelihood  \\\n",
       "Model 1  logit  33.779268  35.26075  39.642212      -12.889634   \n",
       "Model 2  logit  32.253147  33.11029  36.650355      -13.126574   \n",
       "\n",
       "         Pseudo R-squared  log loss  \n",
       "Model 1          0.374038  6.758185  \n",
       "Model 2          0.362532  6.758185  "
      ]
     },
     "execution_count": 9,
     "metadata": {},
     "output_type": "execute_result"
    }
   ],
   "source": [
    "# Model performance\n",
    "compare_performance(model =[glm_model,glm_model2])"
   ]
  },
  {
   "cell_type": "code",
   "execution_count": 10,
   "metadata": {},
   "outputs": [
    {
     "data": {
      "text/plain": [
       "0   -0.026578\n",
       "1   -0.059501\n",
       "2   -0.187260\n",
       "3   -0.025902\n",
       "4    0.430107\n",
       "dtype: float64"
      ]
     },
     "execution_count": 10,
     "metadata": {},
     "output_type": "execute_result"
    }
   ],
   "source": [
    "# Residuals\n",
    "residuals(glm_model).head()"
   ]
  },
  {
   "cell_type": "markdown",
   "metadata": {},
   "source": [
    "## Times series"
   ]
  },
  {
   "cell_type": "code",
   "execution_count": 11,
   "metadata": {},
   "outputs": [],
   "source": [
    "dta = sm.datasets.sunspots.load_pandas().data\n",
    "dta.index = pd.Index(sm.tsa.datetools.dates_from_range(\"1700\", \"2008\"))\n",
    "dta.index.freq = dta.index.inferred_freq\n",
    "del dta[\"YEAR\"]\n",
    "dta = dta[\"SUNACTIVITY\"]"
   ]
  },
  {
   "cell_type": "code",
   "execution_count": 12,
   "metadata": {},
   "outputs": [
    {
     "data": {
      "image/png": "[encoded data removed]",
      "text/plain": [
       "<Figure size 640x480 with 1 Axes>"
      ]
     },
     "metadata": {},
     "output_type": "display_data"
    },
    {
     "name": "stdout",
     "output_type": "stream",
     "text": [
      "\n"
     ]
    }
   ],
   "source": [
    "# Représentation graphique\n",
    "import plotnine as pn\n",
    "from scientisttseries.tsaplots import ggtsplot\n",
    "p = ggtsplot(dta)\n",
    "print(p)"
   ]
  },
  {
   "cell_type": "code",
   "execution_count": 13,
   "metadata": {},
   "outputs": [
    {
     "data": {
      "text/html": [
       "<table class=\"simpletable\">\n",
       "<tr>\n",
       "     <td></td>       <th>coef</th>     <th>std err</th>      <th>z</th>      <th>P>|z|</th>  <th>[0.025</th>    <th>0.975]</th>  \n",
       "</tr>\n",
       "<tr>\n",
       "  <th>const</th>  <td>   49.7462</td> <td>    3.938</td> <td>   12.631</td> <td> 0.000</td> <td>   42.027</td> <td>   57.465</td>\n",
       "</tr>\n",
       "<tr>\n",
       "  <th>ar.L1</th>  <td>    1.3906</td> <td>    0.037</td> <td>   37.694</td> <td> 0.000</td> <td>    1.318</td> <td>    1.463</td>\n",
       "</tr>\n",
       "<tr>\n",
       "  <th>ar.L2</th>  <td>   -0.6886</td> <td>    0.036</td> <td>  -19.363</td> <td> 0.000</td> <td>   -0.758</td> <td>   -0.619</td>\n",
       "</tr>\n",
       "<tr>\n",
       "  <th>sigma2</th> <td>  274.7272</td> <td>   18.897</td> <td>   14.538</td> <td> 0.000</td> <td>  237.689</td> <td>  311.765</td>\n",
       "</tr>\n",
       "</table>"
      ],
      "text/latex": [
       "\\begin{center}\n",
       "\\begin{tabular}{lcccccc}\n",
       "\\toprule\n",
       "                & \\textbf{coef} & \\textbf{std err} & \\textbf{z} & \\textbf{P$> |$z$|$} & \\textbf{[0.025} & \\textbf{0.975]}  \\\\\n",
       "\\midrule\n",
       "\\textbf{const}  &      49.7462  &        3.938     &    12.631  &         0.000        &       42.027    &       57.465     \\\\\n",
       "\\textbf{ar.L1}  &       1.3906  &        0.037     &    37.694  &         0.000        &        1.318    &        1.463     \\\\\n",
       "\\textbf{ar.L2}  &      -0.6886  &        0.036     &   -19.363  &         0.000        &       -0.758    &       -0.619     \\\\\n",
       "\\textbf{sigma2} &     274.7272  &       18.897     &    14.538  &         0.000        &      237.689    &      311.765     \\\\\n",
       "\\bottomrule\n",
       "\\end{tabular}\n",
       "\\end{center}"
      ],
      "text/plain": [
       "<class 'statsmodels.iolib.table.SimpleTable'>"
      ]
     },
     "execution_count": 13,
     "metadata": {},
     "output_type": "execute_result"
    }
   ],
   "source": [
    "arma_mod20 = ARIMA(dta, order=(2, 0, 0)).fit()\n",
    "coefficients(arma_mod20)"
   ]
  },
  {
   "cell_type": "code",
   "execution_count": 14,
   "metadata": {},
   "outputs": [
    {
     "data": {
      "text/html": [
       "<table class=\"simpletable\">\n",
       "<tr>\n",
       "     <td></td>       <th>coef</th>     <th>std err</th>      <th>z</th>      <th>P>|z|</th>  <th>[0.025</th>    <th>0.975]</th>  \n",
       "</tr>\n",
       "<tr>\n",
       "  <th>const</th>  <td>   49.7519</td> <td>    3.518</td> <td>   14.141</td> <td> 0.000</td> <td>   42.856</td> <td>   56.648</td>\n",
       "</tr>\n",
       "<tr>\n",
       "  <th>ar.L1</th>  <td>    1.3008</td> <td>    0.050</td> <td>   25.763</td> <td> 0.000</td> <td>    1.202</td> <td>    1.400</td>\n",
       "</tr>\n",
       "<tr>\n",
       "  <th>ar.L2</th>  <td>   -0.5081</td> <td>    0.079</td> <td>   -6.421</td> <td> 0.000</td> <td>   -0.663</td> <td>   -0.353</td>\n",
       "</tr>\n",
       "<tr>\n",
       "  <th>ar.L3</th>  <td>   -0.1296</td> <td>    0.058</td> <td>   -2.236</td> <td> 0.025</td> <td>   -0.243</td> <td>   -0.016</td>\n",
       "</tr>\n",
       "<tr>\n",
       "  <th>sigma2</th> <td>  270.1011</td> <td>   18.599</td> <td>   14.523</td> <td> 0.000</td> <td>  233.649</td> <td>  306.554</td>\n",
       "</tr>\n",
       "</table>"
      ],
      "text/latex": [
       "\\begin{center}\n",
       "\\begin{tabular}{lcccccc}\n",
       "\\toprule\n",
       "                & \\textbf{coef} & \\textbf{std err} & \\textbf{z} & \\textbf{P$> |$z$|$} & \\textbf{[0.025} & \\textbf{0.975]}  \\\\\n",
       "\\midrule\n",
       "\\textbf{const}  &      49.7519  &        3.518     &    14.141  &         0.000        &       42.856    &       56.648     \\\\\n",
       "\\textbf{ar.L1}  &       1.3008  &        0.050     &    25.763  &         0.000        &        1.202    &        1.400     \\\\\n",
       "\\textbf{ar.L2}  &      -0.5081  &        0.079     &    -6.421  &         0.000        &       -0.663    &       -0.353     \\\\\n",
       "\\textbf{ar.L3}  &      -0.1296  &        0.058     &    -2.236  &         0.025        &       -0.243    &       -0.016     \\\\\n",
       "\\textbf{sigma2} &     270.1011  &       18.599     &    14.523  &         0.000        &      233.649    &      306.554     \\\\\n",
       "\\bottomrule\n",
       "\\end{tabular}\n",
       "\\end{center}"
      ],
      "text/plain": [
       "<class 'statsmodels.iolib.table.SimpleTable'>"
      ]
     },
     "execution_count": 14,
     "metadata": {},
     "output_type": "execute_result"
    }
   ],
   "source": [
    "# \n",
    "arma_mod30 = ARIMA(dta, order=(3, 0, 0)).fit()\n",
    "coefficients(arma_mod30)"
   ]
  },
  {
   "cell_type": "markdown",
   "metadata": {},
   "source": [
    "### Compare model"
   ]
  },
  {
   "cell_type": "code",
   "execution_count": 15,
   "metadata": {},
   "outputs": [
    {
     "data": {
      "text/html": [
       "<div>\n",
       "<style scoped>\n",
       "    .dataframe tbody tr th:only-of-type {\n",
       "        vertical-align: middle;\n",
       "    }\n",
       "\n",
       "    .dataframe tbody tr th {\n",
       "        vertical-align: top;\n",
       "    }\n",
       "\n",
       "    .dataframe thead th {\n",
       "        text-align: right;\n",
       "    }\n",
       "</style>\n",
       "<table border=\"1\" class=\"dataframe\">\n",
       "  <thead>\n",
       "    <tr style=\"text-align: right;\">\n",
       "      <th></th>\n",
       "      <th>Name</th>\n",
       "      <th>AIC</th>\n",
       "      <th>AICC</th>\n",
       "      <th>BIC</th>\n",
       "      <th>Log-Likelihood</th>\n",
       "      <th>MAE</th>\n",
       "      <th>RMSE</th>\n",
       "      <th>SSE</th>\n",
       "    </tr>\n",
       "  </thead>\n",
       "  <tbody>\n",
       "    <tr>\n",
       "      <th>Model 1</th>\n",
       "      <td>arima</td>\n",
       "      <td>2622.637093</td>\n",
       "      <td>2622.768672</td>\n",
       "      <td>2637.570458</td>\n",
       "      <td>-1307.318547</td>\n",
       "      <td>12.627873</td>\n",
       "      <td>16.737679</td>\n",
       "      <td>86566.323548</td>\n",
       "    </tr>\n",
       "    <tr>\n",
       "      <th>Model 2</th>\n",
       "      <td>arima</td>\n",
       "      <td>2619.403629</td>\n",
       "      <td>2619.601649</td>\n",
       "      <td>2638.070336</td>\n",
       "      <td>-1304.701815</td>\n",
       "      <td>12.554801</td>\n",
       "      <td>16.598720</td>\n",
       "      <td>85134.904293</td>\n",
       "    </tr>\n",
       "  </tbody>\n",
       "</table>\n",
       "</div>"
      ],
      "text/plain": [
       "          Name          AIC         AICC          BIC  Log-Likelihood  \\\n",
       "Model 1  arima  2622.637093  2622.768672  2637.570458    -1307.318547   \n",
       "Model 2  arima  2619.403629  2619.601649  2638.070336    -1304.701815   \n",
       "\n",
       "               MAE       RMSE           SSE  \n",
       "Model 1  12.627873  16.737679  86566.323548  \n",
       "Model 2  12.554801  16.598720  85134.904293  "
      ]
     },
     "execution_count": 15,
     "metadata": {},
     "output_type": "execute_result"
    }
   ],
   "source": [
    "compare_performance(model=[arma_mod20,arma_mod30])"
   ]
  },
  {
   "cell_type": "code",
   "execution_count": 16,
   "metadata": {},
   "outputs": [
    {
     "data": {
      "text/html": [
       "<div>\n",
       "<style scoped>\n",
       "    .dataframe tbody tr th:only-of-type {\n",
       "        vertical-align: middle;\n",
       "    }\n",
       "\n",
       "    .dataframe tbody tr th {\n",
       "        vertical-align: top;\n",
       "    }\n",
       "\n",
       "    .dataframe thead th {\n",
       "        text-align: right;\n",
       "    }\n",
       "</style>\n",
       "<table border=\"1\" class=\"dataframe\">\n",
       "  <thead>\n",
       "    <tr style=\"text-align: right;\">\n",
       "      <th></th>\n",
       "      <th>Name</th>\n",
       "      <th>AIC</th>\n",
       "      <th>AICC</th>\n",
       "      <th>BIC</th>\n",
       "      <th>Log-Likelihood</th>\n",
       "      <th>R-squared</th>\n",
       "      <th>Adj. rsquared</th>\n",
       "      <th>RMSE</th>\n",
       "      <th>sigma</th>\n",
       "      <th>Pseudo R-squared</th>\n",
       "      <th>log loss</th>\n",
       "    </tr>\n",
       "  </thead>\n",
       "  <tbody>\n",
       "    <tr>\n",
       "      <th>Model 1</th>\n",
       "      <td>ols</td>\n",
       "      <td>764.598558</td>\n",
       "      <td>766.053104</td>\n",
       "      <td>781.697117</td>\n",
       "      <td>-375.299279</td>\n",
       "      <td>0.337951</td>\n",
       "      <td>0.287024</td>\n",
       "      <td>400.492167</td>\n",
       "      <td>20.890997</td>\n",
       "      <td>NaN</td>\n",
       "      <td>NaN</td>\n",
       "    </tr>\n",
       "    <tr>\n",
       "      <th>Model 2</th>\n",
       "      <td>logit</td>\n",
       "      <td>33.779268</td>\n",
       "      <td>35.260750</td>\n",
       "      <td>39.642212</td>\n",
       "      <td>-12.889634</td>\n",
       "      <td>NaN</td>\n",
       "      <td>NaN</td>\n",
       "      <td>NaN</td>\n",
       "      <td>NaN</td>\n",
       "      <td>0.374038</td>\n",
       "      <td>6.758185</td>\n",
       "    </tr>\n",
       "  </tbody>\n",
       "</table>\n",
       "</div>"
      ],
      "text/plain": [
       "          Name         AIC        AICC         BIC  Log-Likelihood  R-squared  \\\n",
       "Model 1    ols  764.598558  766.053104  781.697117     -375.299279   0.337951   \n",
       "Model 2  logit   33.779268   35.260750   39.642212      -12.889634        NaN   \n",
       "\n",
       "         Adj. rsquared        RMSE      sigma  Pseudo R-squared  log loss  \n",
       "Model 1       0.287024  400.492167  20.890997               NaN       NaN  \n",
       "Model 2            NaN         NaN        NaN          0.374038  6.758185  "
      ]
     },
     "execution_count": 16,
     "metadata": {},
     "output_type": "execute_result"
    }
   ],
   "source": [
    "compare_performance(model=[lm_model,glm_model])"
   ]
  }
 ],
 "metadata": {
  "kernelspec": {
   "display_name": "Python 3",
   "language": "python",
   "name": "python3"
  },
  "language_info": {
   "codemirror_mode": {
    "name": "ipython",
    "version": 3
   },
   "file_extension": ".py",
   "mimetype": "text/x-python",
   "name": "python",
   "nbconvert_exporter": "python",
   "pygments_lexer": "ipython3",
   "version": "3.10.5"
  },
  "orig_nbformat": 4
 },
 "nbformat": 4,
 "nbformat_minor": 2
}
