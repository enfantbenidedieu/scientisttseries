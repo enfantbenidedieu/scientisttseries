{
 "cells": [
  {
   "cell_type": "markdown",
   "metadata": {},
   "source": [
    "## KPSS"
   ]
  },
  {
   "cell_type": "code",
   "execution_count": 1,
   "metadata": {},
   "outputs": [
    {
     "data": {
      "text/html": [
       "<div>\n",
       "<style scoped>\n",
       "    .dataframe tbody tr th:only-of-type {\n",
       "        vertical-align: middle;\n",
       "    }\n",
       "\n",
       "    .dataframe tbody tr th {\n",
       "        vertical-align: top;\n",
       "    }\n",
       "\n",
       "    .dataframe thead th {\n",
       "        text-align: right;\n",
       "    }\n",
       "</style>\n",
       "<table border=\"1\" class=\"dataframe\">\n",
       "  <thead>\n",
       "    <tr style=\"text-align: right;\">\n",
       "      <th></th>\n",
       "      <th>TOTPHAR</th>\n",
       "      <th>TOTPHARSA</th>\n",
       "    </tr>\n",
       "  </thead>\n",
       "  <tbody>\n",
       "    <tr>\n",
       "      <th>2000-01-31</th>\n",
       "      <td>1766.329705</td>\n",
       "      <td>1628.372370</td>\n",
       "    </tr>\n",
       "    <tr>\n",
       "      <th>2000-02-29</th>\n",
       "      <td>1799.817447</td>\n",
       "      <td>1793.320963</td>\n",
       "    </tr>\n",
       "    <tr>\n",
       "      <th>2000-03-31</th>\n",
       "      <td>2022.353306</td>\n",
       "      <td>1847.212570</td>\n",
       "    </tr>\n",
       "    <tr>\n",
       "      <th>2000-04-30</th>\n",
       "      <td>1762.868650</td>\n",
       "      <td>1845.445843</td>\n",
       "    </tr>\n",
       "    <tr>\n",
       "      <th>2000-05-31</th>\n",
       "      <td>1883.066309</td>\n",
       "      <td>1945.822600</td>\n",
       "    </tr>\n",
       "  </tbody>\n",
       "</table>\n",
       "</div>"
      ],
      "text/plain": [
       "                TOTPHAR    TOTPHARSA\n",
       "2000-01-31  1766.329705  1628.372370\n",
       "2000-02-29  1799.817447  1793.320963\n",
       "2000-03-31  2022.353306  1847.212570\n",
       "2000-04-30  1762.868650  1845.445843\n",
       "2000-05-31  1883.066309  1945.822600"
      ]
     },
     "execution_count": 1,
     "metadata": {},
     "output_type": "execute_result"
    }
   ],
   "source": [
    "import os\n",
    "os.chdir(\"D:/Bureau/PythonProject/packages/scientisttseries/data\")\n",
    "\n",
    "# Chargement des données\n",
    "import pandas as pd\n",
    "\n",
    "df = pd.read_excel(\"c5ex2.xls\",header=0,index_col=0)\n",
    "df.index = pd.date_range(start=\"2000-01-31\",periods=len(df),freq=\"M\")\n",
    "df.head()"
   ]
  },
  {
   "cell_type": "code",
   "execution_count": 2,
   "metadata": {},
   "outputs": [
    {
     "name": "stdout",
     "output_type": "stream",
     "text": [
      "####################################################################\n",
      "#       Kwiatkowski, Phillips, Schmidt and Shin Unit Root Test     #\n",
      "####################################################################\n",
      "\n",
      "\n",
      "Values of test-statistic : 3.4507453405904482\n",
      "\n",
      "Critical values for test statistics :\n",
      "                 10pct   5pct  2.5pct   1pct\n",
      "critical values  0.347  0.463   0.574  0.739\n"
     ]
    }
   ],
   "source": [
    "from scientisttseries.uniroot import KPSS,summaryKPSS\n",
    "\n",
    "kpss1 = KPSS(df.TOTPHARSA,typ=\"mu\",lags=\"short\",use_lag=None)\n",
    "summaryKPSS(kpss1)"
   ]
  },
  {
   "cell_type": "code",
   "execution_count": 3,
   "metadata": {},
   "outputs": [
    {
     "name": "stdout",
     "output_type": "stream",
     "text": [
      "####################################################################\n",
      "#       Kwiatkowski, Phillips, Schmidt and Shin Unit Root Test     #\n",
      "####################################################################\n",
      "\n",
      "\n",
      "Values of test-statistic : 1.3067064708462086\n",
      "\n",
      "Critical values for test statistics :\n",
      "                 10pct   5pct  2.5pct   1pct\n",
      "critical values  0.347  0.463   0.574  0.739\n"
     ]
    }
   ],
   "source": [
    "kpss2 = KPSS(df.TOTPHARSA,typ=\"mu\",lags=\"long\",use_lag=None)\n",
    "summaryKPSS(kpss2)"
   ]
  },
  {
   "cell_type": "code",
   "execution_count": 4,
   "metadata": {},
   "outputs": [
    {
     "name": "stdout",
     "output_type": "stream",
     "text": [
      "####################################################################\n",
      "#       Kwiatkowski, Phillips, Schmidt and Shin Unit Root Test     #\n",
      "####################################################################\n",
      "\n",
      "\n",
      "Values of test-statistic : 16.474121171455057\n",
      "\n",
      "Critical values for test statistics :\n",
      "                 10pct   5pct  2.5pct   1pct\n",
      "critical values  0.347  0.463   0.574  0.739\n"
     ]
    }
   ],
   "source": [
    "kpss3 = KPSS(df.TOTPHARSA,typ=\"mu\",lags=\"nil\",use_lag=None)\n",
    "summaryKPSS(kpss3)"
   ]
  },
  {
   "cell_type": "code",
   "execution_count": 5,
   "metadata": {},
   "outputs": [
    {
     "name": "stdout",
     "output_type": "stream",
     "text": [
      "####################################################################\n",
      "#       Kwiatkowski, Phillips, Schmidt and Shin Unit Root Test     #\n",
      "####################################################################\n",
      "\n",
      "\n",
      "Values of test-statistic : 3.4507453405904482\n",
      "\n",
      "Critical values for test statistics :\n",
      "                 10pct   5pct  2.5pct   1pct\n",
      "critical values  0.347  0.463   0.574  0.739\n"
     ]
    }
   ],
   "source": [
    "kpss4 = KPSS(df.TOTPHARSA,typ=\"mu\",lags=\"short\",use_lag=4)\n",
    "summaryKPSS(kpss4)"
   ]
  },
  {
   "cell_type": "code",
   "execution_count": 6,
   "metadata": {},
   "outputs": [
    {
     "name": "stdout",
     "output_type": "stream",
     "text": [
      "####################################################################\n",
      "#       Kwiatkowski, Phillips, Schmidt and Shin Unit Root Test     #\n",
      "####################################################################\n",
      "\n",
      "\n",
      "Values of test-statistic : 0.09609678011532025\n",
      "\n",
      "Critical values for test statistics :\n",
      "                 10pct   5pct  2.5pct   1pct\n",
      "critical values  0.119  0.146   0.176  0.216\n"
     ]
    }
   ],
   "source": [
    "kpss5 = KPSS(df.TOTPHARSA,typ=\"tau\",lags=\"short\",use_lag=None)\n",
    "summaryKPSS(kpss5)"
   ]
  },
  {
   "cell_type": "code",
   "execution_count": 7,
   "metadata": {},
   "outputs": [
    {
     "name": "stdout",
     "output_type": "stream",
     "text": [
      "####################################################################\n",
      "#       Kwiatkowski, Phillips, Schmidt and Shin Unit Root Test     #\n",
      "####################################################################\n",
      "\n",
      "\n",
      "Values of test-statistic : 0.0728645680937085\n",
      "\n",
      "Critical values for test statistics :\n",
      "                 10pct   5pct  2.5pct   1pct\n",
      "critical values  0.119  0.146   0.176  0.216\n"
     ]
    }
   ],
   "source": [
    "kpss6 = KPSS(df.TOTPHARSA,typ=\"tau\",lags=\"long\",use_lag=None)\n",
    "summaryKPSS(kpss6)"
   ]
  },
  {
   "cell_type": "code",
   "execution_count": 8,
   "metadata": {},
   "outputs": [
    {
     "name": "stdout",
     "output_type": "stream",
     "text": [
      "####################################################################\n",
      "#       Kwiatkowski, Phillips, Schmidt and Shin Unit Root Test     #\n",
      "####################################################################\n",
      "\n",
      "\n",
      "Values of test-statistic : 0.10082286599222069\n",
      "\n",
      "Critical values for test statistics :\n",
      "                 10pct   5pct  2.5pct   1pct\n",
      "critical values  0.119  0.146   0.176  0.216\n"
     ]
    }
   ],
   "source": [
    "kpss7 = KPSS(df.TOTPHARSA,typ=\"tau\",lags=\"nil\",use_lag=None)\n",
    "summaryKPSS(kpss7)"
   ]
  },
  {
   "cell_type": "code",
   "execution_count": 9,
   "metadata": {},
   "outputs": [
    {
     "name": "stdout",
     "output_type": "stream",
     "text": [
      "####################################################################\n",
      "#       Kwiatkowski, Phillips, Schmidt and Shin Unit Root Test     #\n",
      "####################################################################\n",
      "\n",
      "\n",
      "Values of test-statistic : 0.09609678011532025\n",
      "\n",
      "Critical values for test statistics :\n",
      "                 10pct   5pct  2.5pct   1pct\n",
      "critical values  0.119  0.146   0.176  0.216\n"
     ]
    }
   ],
   "source": [
    "kpss8 = KPSS(df.TOTPHARSA,typ=\"tau\",lags=\"long\",use_lag=4)\n",
    "summaryKPSS(kpss8)"
   ]
  }
 ],
 "metadata": {
  "kernelspec": {
   "display_name": "Python 3",
   "language": "python",
   "name": "python3"
  },
  "language_info": {
   "codemirror_mode": {
    "name": "ipython",
    "version": 3
   },
   "file_extension": ".py",
   "mimetype": "text/x-python",
   "name": "python",
   "nbconvert_exporter": "python",
   "pygments_lexer": "ipython3",
   "version": "3.10.5"
  },
  "orig_nbformat": 4
 },
 "nbformat": 4,
 "nbformat_minor": 2
}
